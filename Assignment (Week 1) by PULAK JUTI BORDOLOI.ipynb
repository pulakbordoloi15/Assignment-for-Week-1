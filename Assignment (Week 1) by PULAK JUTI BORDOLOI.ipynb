{
 "cells": [
  {
   "cell_type": "markdown",
   "metadata": {},
   "source": [
    "# Assignment (Week 1) By PULAK JUTI BORDOLOI"
   ]
  },
  {
   "cell_type": "code",
   "execution_count": 1,
   "metadata": {},
   "outputs": [],
   "source": [
    "import pandas as pd\n",
    "import numpy as np\n",
    "import matplotlib.pyplot as plt\n",
    "from sklearn.decomposition import PCA\n",
    "from sklearn.preprocessing import StandardScaler\n"
   ]
  },
  {
   "cell_type": "markdown",
   "metadata": {},
   "source": [
    "# Load and Preprocess Data"
   ]
  },
  {
   "cell_type": "code",
   "execution_count": 2,
   "metadata": {},
   "outputs": [
    {
     "data": {
      "text/plain": [
       "(8041, 35)"
      ]
     },
     "execution_count": 2,
     "metadata": {},
     "output_type": "execute_result"
    }
   ],
   "source": [
    "#Load the dataset\n",
    "df=pd.read_csv(r'~/Desktop/\\PCA_practice_dataset.csv')\n",
    "df.head()\n",
    "X=df.to_numpy() #Convert the data to numpy\n",
    "X.shape"
   ]
  },
  {
   "cell_type": "code",
   "execution_count": 3,
   "metadata": {},
   "outputs": [],
   "source": [
    "#We need to scale the data with mean=0 and standard deviation=1 before we apply PCA\n",
    "scaler=StandardScaler()\n",
    "X=scaler.fit_transform(X)"
   ]
  },
  {
   "cell_type": "markdown",
   "metadata": {},
   "source": [
    "# Applying PCA"
   ]
  },
  {
   "cell_type": "code",
   "execution_count": 4,
   "metadata": {},
   "outputs": [
    {
     "name": "stdout",
     "output_type": "stream",
     "text": [
      "Components required for 90% threshold are:2\n",
      "Components required for 91% threshold are:2\n",
      "Components required for 92% threshold are:3\n",
      "Components required for 93% threshold are:3\n",
      "Components required for 94% threshold are:4\n",
      "Components required for 95% threshold are:4\n",
      "Components required for 96% threshold are:5\n",
      "Components required for 97% threshold are:6\n"
     ]
    }
   ],
   "source": [
    "#Apply Pca\n",
    "pca=PCA()\n",
    "X=pca.fit_transform(X)\n",
    "\n",
    "#Get a sum of all the eigen values for the corresponding eigen vectors\n",
    "cumalitive_varience= np.cumsum(pca.explained_variance_ratio_)*100\n",
    "\n",
    "#We declare a list of our desired thresholds\n",
    "threholds= [i for i in range(90,97+1,1)]\n",
    "\n",
    "#We make a list of the components requiredto retain the varience as mentioned in our threshold list\n",
    "components=[np.argmax(cumalitive_varience>threhold) for threhold in threholds]\n",
    "\n",
    "for component,threshold in zip(components,threholds):\n",
    "    print(\"Components required for {}% threshold are:{}\".format(threshold,component))"
   ]
  },
  {
   "cell_type": "code",
   "execution_count": 5,
   "metadata": {},
   "outputs": [
    {
     "data": {
      "image/png": "[encoded data removed]",
      "text/plain": [
       "<Figure size 432x288 with 1 Axes>"
      ]
     },
     "metadata": {
      "needs_background": "light"
     },
     "output_type": "display_data"
    }
   ],
   "source": [
    "#We plot these data in the form of a scree plot\n",
    "\n",
    "plt.plot(components,range(90,97+1),'ro-',linewidth=2)\n",
    "plt.title(\"scree Plot\")\n",
    "plt.xlabel('Principal Component')\n",
    "plt.ylabel('Threshold in %')\n",
    "plt.show()"
   ]
  },
  {
   "cell_type": "code",
   "execution_count": 6,
   "metadata": {},
   "outputs": [
    {
     "name": "stdout",
     "output_type": "stream",
     "text": [
      "Performing dimentionality reduction to retain 90% threshold\n",
      "After dimensionality reduction,new shape of the dataset is: (8041, 2)\n",
      "\n",
      "\n",
      "Performing dimentionality reduction to retain 91% threshold\n",
      "After dimensionality reduction,new shape of the dataset is: (8041, 2)\n",
      "\n",
      "\n",
      "Performing dimentionality reduction to retain 92% threshold\n",
      "After dimensionality reduction,new shape of the dataset is: (8041, 3)\n",
      "\n",
      "\n",
      "Performing dimentionality reduction to retain 93% threshold\n",
      "After dimensionality reduction,new shape of the dataset is: (8041, 3)\n",
      "\n",
      "\n",
      "Performing dimentionality reduction to retain 94% threshold\n",
      "After dimensionality reduction,new shape of the dataset is: (8041, 4)\n",
      "\n",
      "\n",
      "Performing dimentionality reduction to retain 95% threshold\n",
      "After dimensionality reduction,new shape of the dataset is: (8041, 4)\n",
      "\n",
      "\n",
      "Performing dimentionality reduction to retain 96% threshold\n",
      "After dimensionality reduction,new shape of the dataset is: (8041, 5)\n",
      "\n",
      "\n",
      "Performing dimentionality reduction to retain 97% threshold\n",
      "After dimensionality reduction,new shape of the dataset is: (8041, 6)\n",
      "\n",
      "\n"
     ]
    }
   ],
   "source": [
    "#Now we perform dimentionally reduction\n",
    "X_orig= X\n",
    "\n",
    "for component,var in zip(components,threholds):\n",
    "    pca=PCA(n_components=component)#We pass the number of components required for each threshold\n",
    "    X_transformed = pca.fit_transform(X_orig)#We get the reduced dimentionally dataset\n",
    "    print('Performing dimentionality reduction to retain {}% threshold'.format(var))\n",
    "    print('After dimensionality reduction,new shape of the dataset is:',X_transformed.shape)\n",
    "    print(\"\\n\")"
   ]
  }
 ],
 "metadata": {
  "kernelspec": {
   "display_name": "Python 3",
   "language": "python",
   "name": "python3"
  },
  "language_info": {
   "codemirror_mode": {
    "name": "ipython",
    "version": 3
   },
   "file_extension": ".py",
   "mimetype": "text/x-python",
   "name": "python",
   "nbconvert_exporter": "python",
   "pygments_lexer": "ipython3",
   "version": "3.8.5"
  }
 },
 "nbformat": 4,
 "nbformat_minor": 4
}
